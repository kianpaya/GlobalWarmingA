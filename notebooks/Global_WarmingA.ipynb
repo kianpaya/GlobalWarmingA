{
 "cells": [
  {
   "cell_type": "code",
   "execution_count": 6,
   "id": "45059185-fb21-47f4-8d11-7e74114130ac",
   "metadata": {},
   "outputs": [
    {
     "name": "stdout",
     "output_type": "stream",
     "text": [
      "           dt  AverageTemperature  AverageTemperatureUncertainty Country\n",
      "0  1743-11-01               4.384                          2.294   Åland\n",
      "1  1743-12-01                 NaN                            NaN   Åland\n",
      "2  1744-01-01                 NaN                            NaN   Åland\n",
      "3  1744-02-01                 NaN                            NaN   Åland\n",
      "4  1744-03-01                 NaN                            NaN   Åland\n",
      "<class 'pandas.core.frame.DataFrame'>\n",
      "RangeIndex: 577462 entries, 0 to 577461\n",
      "Data columns (total 4 columns):\n",
      " #   Column                         Non-Null Count   Dtype  \n",
      "---  ------                         --------------   -----  \n",
      " 0   dt                             577462 non-null  object \n",
      " 1   AverageTemperature             544811 non-null  float64\n",
      " 2   AverageTemperatureUncertainty  545550 non-null  float64\n",
      " 3   Country                        577462 non-null  object \n",
      "dtypes: float64(2), object(2)\n",
      "memory usage: 17.6+ MB\n",
      "None\n",
      "       AverageTemperature  AverageTemperatureUncertainty\n",
      "count       544811.000000                  545550.000000\n",
      "mean            17.193354                       1.019057\n",
      "std             10.953966                       1.201930\n",
      "min            -37.658000                       0.052000\n",
      "25%             10.025000                       0.323000\n",
      "50%             20.901000                       0.571000\n",
      "75%             25.814000                       1.206000\n",
      "max             38.842000                      15.003000\n",
      "          dt  AverageTemperature  AverageTemperatureUncertainty Country\n",
      "0 1743-11-01               4.384                          2.294   Åland\n",
      "5 1744-04-01               1.530                          4.680   Åland\n",
      "6 1744-05-01               6.702                          1.789   Åland\n",
      "7 1744-06-01              11.609                          1.577   Åland\n",
      "8 1744-07-01              15.342                          1.410   Åland\n"
     ]
    }
   ],
   "source": [
    "import pandas as pd\n",
    "from sklearn.linear_model import LinearRegression\n",
    "import numpy as np\n",
    "import pycountry\n",
    "# لود کردن دیتاست\n",
    "file_path = 'GlobalLandTemperaturesByCountry.csv'  # مسیر فایل CSV\n",
    "df = pd.read_csv(file_path)\n",
    "\n",
    "\n",
    "print(df.head())\n",
    "\n",
    "\n",
    "print(df.info())\n",
    "print(df.describe())\n",
    "\n",
    "\n",
    "df['dt'] = pd.to_datetime(df['dt'])\n",
    "\n",
    "\n",
    "df = df.dropna()\n",
    "\n",
    "\n",
    "df = df.drop_duplicates()\n",
    "\n",
    "\n",
    "print(df.head())\n"
   ]
  },
  {
   "cell_type": "code",
   "execution_count": null,
   "id": "ff83193b-3543-420f-a1f5-c9ca828e8bff",
   "metadata": {},
   "outputs": [],
   "source": []
  },
  {
   "cell_type": "code",
   "execution_count": 7,
   "id": "61cc7c39-99e3-426e-a72c-27eaf326cc4a",
   "metadata": {},
   "outputs": [
    {
     "name": "stdout",
     "output_type": "stream",
     "text": [
      "           Country\n",
      "0            Åland\n",
      "3239   Afghanistan\n",
      "5345        Africa\n",
      "7310       Albania\n",
      "10549      Algeria\n"
     ]
    }
   ],
   "source": [
    "def standardize_country_name(country_name):\n",
    "    try:\n",
    "        return pycountry.countries.lookup(country_name).name\n",
    "    except LookupError:\n",
    "        return country_name  # اگر نام کشور پیدا نشد، همان نام را برمی‌گرداند\n",
    "\n",
    "\n",
    "df['Country'] = df['Country'].apply(standardize_country_name)\n",
    "\n",
    "# نمایش نمونه‌ای از داده‌ها\n",
    "print(df[['Country']].drop_duplicates().head())"
   ]
  },
  {
   "cell_type": "code",
   "execution_count": 4,
   "id": "6a4407e8-5476-4790-b9c2-e97b52a976db",
   "metadata": {},
   "outputs": [
    {
     "name": "stdout",
     "output_type": "stream",
     "text": [
      "dt                               0\n",
      "AverageTemperature               0\n",
      "AverageTemperatureUncertainty    0\n",
      "Country                          0\n",
      "dtype: int64\n",
      "          dt  AverageTemperature  AverageTemperatureUncertainty Country\n",
      "0 1743-11-01               4.384                          2.294   Åland\n",
      "5 1744-04-01               1.530                          4.680   Åland\n",
      "6 1744-05-01               6.702                          1.789   Åland\n",
      "7 1744-06-01              11.609                          1.577   Åland\n",
      "8 1744-07-01              15.342                          1.410   Åland\n"
     ]
    }
   ],
   "source": [
    "\n",
    "print(df.isnull().sum())\n",
    "\n",
    "\n",
    "df['AverageTemperature'] = df['AverageTemperature'].interpolate()\n",
    "\n",
    "\n",
    "print(df.head())\n"
   ]
  },
  {
   "cell_type": "code",
   "execution_count": 10,
   "id": "db2d3fc8-b852-43a2-9425-50e8d72de272",
   "metadata": {},
   "outputs": [
    {
     "name": "stdout",
     "output_type": "stream",
     "text": [
      "Total rows before cleaning: 544811\n",
      "Total rows after removing NaNs: 544811\n"
     ]
    }
   ],
   "source": [
    "# بررسی تعداد داده‌های باقی‌مانده پس از حذف مقادیر نامشخص\n",
    "print(f\"Total rows before cleaning: {len(df)}\")\n",
    "df_clean = df.dropna(subset=['AverageTemperature'])\n",
    "print(f\"Total rows after removing NaNs: {len(df_clean)}\")\n"
   ]
  },
  {
   "cell_type": "code",
   "execution_count": 13,
   "id": "07c44aaf-720b-4809-9377-0fc2b66f28bc",
   "metadata": {},
   "outputs": [
    {
     "name": "stdout",
     "output_type": "stream",
     "text": [
      "      City        Country  Latitude  Longitude\n",
      "0  Abidjan  Côte D'Ivoire      5.63      -3.23\n",
      "1  Abidjan  Côte D'Ivoire      5.63      -3.23\n",
      "2  Abidjan  Côte D'Ivoire      5.63      -3.23\n",
      "3  Abidjan  Côte D'Ivoire      5.63      -3.23\n",
      "4  Abidjan  Côte D'Ivoire      5.63      -3.23\n"
     ]
    }
   ],
   "source": [
    "import pandas as pd\n",
    "\n",
    "# تبدیل Latitude\n",
    "def convert_latitude(lat):\n",
    "    value = float(lat[:-1])  \n",
    "    if lat[-1] == 'S': \n",
    "        value = -value\n",
    "    return value\n",
    "\n",
    "# تبدیل Longitude\n",
    "def convert_longitude(lon):\n",
    "    value = float(lon[:-1])  \n",
    "    if lon[-1] == 'W':  \n",
    "        value = -value\n",
    "    return value\n",
    "\n",
    "# لود دیتاست\n",
    "df = pd.read_csv('GlobalLandTemperaturesByMajorCity.csv')\n",
    "\n",
    "# اعمال تبدیل به ستون‌های Latitude و Longitude\n",
    "df['Latitude'] = df['Latitude'].apply(convert_latitude)\n",
    "df['Longitude'] = df['Longitude'].apply(convert_longitude)\n",
    "\n",
    "# نمایش نمونه‌ای از دیتاست بعد از تبدیل\n",
    "print(df[['City', 'Country', 'Latitude', 'Longitude']].head())\n"
   ]
  },
  {
   "cell_type": "code",
   "execution_count": 19,
   "id": "162ae71b-78a0-4f61-bec9-b337aa1a166d",
   "metadata": {},
   "outputs": [
    {
     "name": "stdout",
     "output_type": "stream",
     "text": [
      "      City        Country  Latitude GeographicalCategory\n",
      "0  Abidjan  Côte D'Ivoire      5.63             Tropical\n",
      "1  Abidjan  Côte D'Ivoire      5.63             Tropical\n",
      "2  Abidjan  Côte D'Ivoire      5.63             Tropical\n",
      "3  Abidjan  Côte D'Ivoire      5.63             Tropical\n",
      "4  Abidjan  Côte D'Ivoire      5.63             Tropical\n"
     ]
    }
   ],
   "source": [
    "def categorize_by_latitude(lat):\n",
    "    if -23.5 <= lat <= 23.5:  # منطقه گرمسیری\n",
    "        return 'Tropical'\n",
    "    elif lat > 23.5 and lat <= 66.5:  \n",
    "        return 'Northern Temperate'\n",
    "    elif lat > 66.5:  # \n",
    "        return 'Northern Polar'\n",
    "    elif lat < -23.5 and lat >= -66.5:  \n",
    "        return 'Southern Temperate'\n",
    "    elif lat < -66.5: \n",
    "        return 'Southern Polar'\n",
    "\n",
    "# اضافه کردن ستون دسته‌بندی جغرافیایی\n",
    "df['GeographicalCategory'] = df['Latitude'].apply(categorize_by_latitude)\n",
    "\n",
    "# نمایش نمونه‌ای از داده‌ها\n",
    "print(df[['City', 'Country', 'Latitude', 'GeographicalCategory']].head())\n"
   ]
  },
  {
   "cell_type": "code",
   "execution_count": 21,
   "id": "6e959c9e-ec14-42a4-9139-d9489256c306",
   "metadata": {},
   "outputs": [
    {
     "name": "stderr",
     "output_type": "stream",
     "text": [
      "C:\\Users\\No1\\AppData\\Local\\Temp\\ipykernel_19252\\851517323.py:49: SettingWithCopyWarning: \n",
      "A value is trying to be set on a copy of a slice from a DataFrame.\n",
      "Try using .loc[row_indexer,col_indexer] = value instead\n",
      "\n",
      "See the caveats in the documentation: https://pandas.pydata.org/pandas-docs/stable/user_guide/indexing.html#returning-a-view-versus-a-copy\n",
      "  df_clean['GeographicalCategory'] = df_clean['Latitude'].apply(categorize_by_latitude)\n",
      "C:\\Users\\No1\\AppData\\Local\\Temp\\ipykernel_19252\\851517323.py:56: SettingWithCopyWarning: \n",
      "A value is trying to be set on a copy of a slice from a DataFrame.\n",
      "Try using .loc[row_indexer,col_indexer] = value instead\n",
      "\n",
      "See the caveats in the documentation: https://pandas.pydata.org/pandas-docs/stable/user_guide/indexing.html#returning-a-view-versus-a-copy\n",
      "  df_clean['Size'] = df_clean['AverageTemperature'] + 10  # اطمینان از مثبت بودن\n"
     ]
    },
    {
     "ename": "ValueError",
     "evalue": "\n    Invalid element(s) received for the 'size' property of scattergl.marker\n        Invalid elements include: [-0.125, -5.398, -5.507, -1.0389999999999997, -3.9350000000000005, -6.842000000000002, -1.2189999999999994, -5.663, -7.596, -3.555999999999999]\n\n    The 'size' property is a number and may be specified as:\n      - An int or float in the interval [0, inf]\n      - A tuple, list, or one-dimensional numpy array of the above",
     "output_type": "error",
     "traceback": [
      "\u001b[1;31m---------------------------------------------------------------------------\u001b[0m",
      "\u001b[1;31mValueError\u001b[0m                                Traceback (most recent call last)",
      "Cell \u001b[1;32mIn[21], line 59\u001b[0m\n\u001b[0;32m     56\u001b[0m df_clean[\u001b[38;5;124m'\u001b[39m\u001b[38;5;124mSize\u001b[39m\u001b[38;5;124m'\u001b[39m] \u001b[38;5;241m=\u001b[39m df_clean[\u001b[38;5;124m'\u001b[39m\u001b[38;5;124mAverageTemperature\u001b[39m\u001b[38;5;124m'\u001b[39m] \u001b[38;5;241m+\u001b[39m \u001b[38;5;241m10\u001b[39m  \u001b[38;5;66;03m# اطمینان از مثبت بودن\u001b[39;00m\n\u001b[0;32m     58\u001b[0m \u001b[38;5;66;03m# ویژوالیزیشن با استفاده از نمودار پراکندگی\u001b[39;00m\n\u001b[1;32m---> 59\u001b[0m fig \u001b[38;5;241m=\u001b[39m px\u001b[38;5;241m.\u001b[39mscatter(df_clean, x\u001b[38;5;241m=\u001b[39m\u001b[38;5;124m'\u001b[39m\u001b[38;5;124mLongitude\u001b[39m\u001b[38;5;124m'\u001b[39m, y\u001b[38;5;241m=\u001b[39m\u001b[38;5;124m'\u001b[39m\u001b[38;5;124mLatitude\u001b[39m\u001b[38;5;124m'\u001b[39m, color\u001b[38;5;241m=\u001b[39m\u001b[38;5;124m'\u001b[39m\u001b[38;5;124mGeographicalCategory\u001b[39m\u001b[38;5;124m'\u001b[39m,\n\u001b[0;32m     60\u001b[0m                  size\u001b[38;5;241m=\u001b[39m\u001b[38;5;124m'\u001b[39m\u001b[38;5;124mSize\u001b[39m\u001b[38;5;124m'\u001b[39m, hover_name\u001b[38;5;241m=\u001b[39m\u001b[38;5;124m'\u001b[39m\u001b[38;5;124mCity\u001b[39m\u001b[38;5;124m'\u001b[39m,\n\u001b[0;32m     61\u001b[0m                  title\u001b[38;5;241m=\u001b[39m\u001b[38;5;124m\"\u001b[39m\u001b[38;5;124mClimate Zones Categorization\u001b[39m\u001b[38;5;124m\"\u001b[39m,\n\u001b[0;32m     62\u001b[0m                  labels\u001b[38;5;241m=\u001b[39m{\u001b[38;5;124m'\u001b[39m\u001b[38;5;124mLongitude\u001b[39m\u001b[38;5;124m'\u001b[39m: \u001b[38;5;124m'\u001b[39m\u001b[38;5;124mLongitude\u001b[39m\u001b[38;5;124m'\u001b[39m, \u001b[38;5;124m'\u001b[39m\u001b[38;5;124mLatitude\u001b[39m\u001b[38;5;124m'\u001b[39m: \u001b[38;5;124m'\u001b[39m\u001b[38;5;124mLatitude\u001b[39m\u001b[38;5;124m'\u001b[39m})\n\u001b[0;32m     64\u001b[0m \u001b[38;5;66;03m# نمایش نمودار\u001b[39;00m\n\u001b[0;32m     65\u001b[0m fig\u001b[38;5;241m.\u001b[39mshow()\n",
      "File \u001b[1;32m~\\anaconda3\\Lib\\site-packages\\plotly\\express\\_chart_types.py:66\u001b[0m, in \u001b[0;36mscatter\u001b[1;34m(data_frame, x, y, color, symbol, size, hover_name, hover_data, custom_data, text, facet_row, facet_col, facet_col_wrap, facet_row_spacing, facet_col_spacing, error_x, error_x_minus, error_y, error_y_minus, animation_frame, animation_group, category_orders, labels, orientation, color_discrete_sequence, color_discrete_map, color_continuous_scale, range_color, color_continuous_midpoint, symbol_sequence, symbol_map, opacity, size_max, marginal_x, marginal_y, trendline, trendline_options, trendline_color_override, trendline_scope, log_x, log_y, range_x, range_y, render_mode, title, template, width, height)\u001b[0m\n\u001b[0;32m     12\u001b[0m \u001b[38;5;28;01mdef\u001b[39;00m \u001b[38;5;21mscatter\u001b[39m(\n\u001b[0;32m     13\u001b[0m     data_frame\u001b[38;5;241m=\u001b[39m\u001b[38;5;28;01mNone\u001b[39;00m,\n\u001b[0;32m     14\u001b[0m     x\u001b[38;5;241m=\u001b[39m\u001b[38;5;28;01mNone\u001b[39;00m,\n\u001b[1;32m   (...)\u001b[0m\n\u001b[0;32m     60\u001b[0m     height\u001b[38;5;241m=\u001b[39m\u001b[38;5;28;01mNone\u001b[39;00m,\n\u001b[0;32m     61\u001b[0m ) \u001b[38;5;241m-\u001b[39m\u001b[38;5;241m>\u001b[39m go\u001b[38;5;241m.\u001b[39mFigure:\n\u001b[0;32m     62\u001b[0m \u001b[38;5;250m    \u001b[39m\u001b[38;5;124;03m\"\"\"\u001b[39;00m\n\u001b[0;32m     63\u001b[0m \u001b[38;5;124;03m    In a scatter plot, each row of `data_frame` is represented by a symbol\u001b[39;00m\n\u001b[0;32m     64\u001b[0m \u001b[38;5;124;03m    mark in 2D space.\u001b[39;00m\n\u001b[0;32m     65\u001b[0m \u001b[38;5;124;03m    \"\"\"\u001b[39;00m\n\u001b[1;32m---> 66\u001b[0m     \u001b[38;5;28;01mreturn\u001b[39;00m make_figure(args\u001b[38;5;241m=\u001b[39m\u001b[38;5;28mlocals\u001b[39m(), constructor\u001b[38;5;241m=\u001b[39mgo\u001b[38;5;241m.\u001b[39mScatter)\n",
      "File \u001b[1;32m~\\anaconda3\\Lib\\site-packages\\plotly\\express\\_core.py:2170\u001b[0m, in \u001b[0;36mmake_figure\u001b[1;34m(args, constructor, trace_patch, layout_patch)\u001b[0m\n\u001b[0;32m   2165\u001b[0m         group[var] \u001b[38;5;241m=\u001b[39m \u001b[38;5;241m100.0\u001b[39m \u001b[38;5;241m*\u001b[39m group[var] \u001b[38;5;241m/\u001b[39m group_sum\n\u001b[0;32m   2167\u001b[0m patch, fit_results \u001b[38;5;241m=\u001b[39m make_trace_kwargs(\n\u001b[0;32m   2168\u001b[0m     args, trace_spec, group, mapping_labels\u001b[38;5;241m.\u001b[39mcopy(), sizeref\n\u001b[0;32m   2169\u001b[0m )\n\u001b[1;32m-> 2170\u001b[0m trace\u001b[38;5;241m.\u001b[39mupdate(patch)\n\u001b[0;32m   2171\u001b[0m \u001b[38;5;28;01mif\u001b[39;00m fit_results \u001b[38;5;129;01mis\u001b[39;00m \u001b[38;5;129;01mnot\u001b[39;00m \u001b[38;5;28;01mNone\u001b[39;00m:\n\u001b[0;32m   2172\u001b[0m     trendline_rows\u001b[38;5;241m.\u001b[39mappend(mapping_labels\u001b[38;5;241m.\u001b[39mcopy())\n",
      "File \u001b[1;32m~\\anaconda3\\Lib\\site-packages\\plotly\\basedatatypes.py:5124\u001b[0m, in \u001b[0;36mBasePlotlyType.update\u001b[1;34m(self, dict1, overwrite, **kwargs)\u001b[0m\n\u001b[0;32m   5122\u001b[0m         BaseFigure\u001b[38;5;241m.\u001b[39m_perform_update(\u001b[38;5;28mself\u001b[39m, kwargs, overwrite\u001b[38;5;241m=\u001b[39moverwrite)\n\u001b[0;32m   5123\u001b[0m \u001b[38;5;28;01melse\u001b[39;00m:\n\u001b[1;32m-> 5124\u001b[0m     BaseFigure\u001b[38;5;241m.\u001b[39m_perform_update(\u001b[38;5;28mself\u001b[39m, dict1, overwrite\u001b[38;5;241m=\u001b[39moverwrite)\n\u001b[0;32m   5125\u001b[0m     BaseFigure\u001b[38;5;241m.\u001b[39m_perform_update(\u001b[38;5;28mself\u001b[39m, kwargs, overwrite\u001b[38;5;241m=\u001b[39moverwrite)\n\u001b[0;32m   5127\u001b[0m \u001b[38;5;28;01mreturn\u001b[39;00m \u001b[38;5;28mself\u001b[39m\n",
      "File \u001b[1;32m~\\anaconda3\\Lib\\site-packages\\plotly\\basedatatypes.py:3908\u001b[0m, in \u001b[0;36mBaseFigure._perform_update\u001b[1;34m(plotly_obj, update_obj, overwrite)\u001b[0m\n\u001b[0;32m   3902\u001b[0m validator \u001b[38;5;241m=\u001b[39m plotly_obj\u001b[38;5;241m.\u001b[39m_get_prop_validator(key)\n\u001b[0;32m   3904\u001b[0m \u001b[38;5;28;01mif\u001b[39;00m \u001b[38;5;28misinstance\u001b[39m(validator, CompoundValidator) \u001b[38;5;129;01mand\u001b[39;00m \u001b[38;5;28misinstance\u001b[39m(val, \u001b[38;5;28mdict\u001b[39m):\n\u001b[0;32m   3905\u001b[0m \n\u001b[0;32m   3906\u001b[0m     \u001b[38;5;66;03m# Update compound objects recursively\u001b[39;00m\n\u001b[0;32m   3907\u001b[0m     \u001b[38;5;66;03m# plotly_obj[key].update(val)\u001b[39;00m\n\u001b[1;32m-> 3908\u001b[0m     BaseFigure\u001b[38;5;241m.\u001b[39m_perform_update(plotly_obj[key], val)\n\u001b[0;32m   3909\u001b[0m \u001b[38;5;28;01melif\u001b[39;00m \u001b[38;5;28misinstance\u001b[39m(validator, CompoundArrayValidator):\n\u001b[0;32m   3910\u001b[0m     \u001b[38;5;28;01mif\u001b[39;00m plotly_obj[key]:\n\u001b[0;32m   3911\u001b[0m         \u001b[38;5;66;03m# plotly_obj has an existing non-empty array for key\u001b[39;00m\n\u001b[0;32m   3912\u001b[0m         \u001b[38;5;66;03m# In this case we merge val into the existing elements\u001b[39;00m\n",
      "File \u001b[1;32m~\\anaconda3\\Lib\\site-packages\\plotly\\basedatatypes.py:3929\u001b[0m, in \u001b[0;36mBaseFigure._perform_update\u001b[1;34m(plotly_obj, update_obj, overwrite)\u001b[0m\n\u001b[0;32m   3926\u001b[0m                 plotly_obj[key] \u001b[38;5;241m=\u001b[39m val\n\u001b[0;32m   3927\u001b[0m         \u001b[38;5;28;01melse\u001b[39;00m:\n\u001b[0;32m   3928\u001b[0m             \u001b[38;5;66;03m# Assign non-compound value\u001b[39;00m\n\u001b[1;32m-> 3929\u001b[0m             plotly_obj[key] \u001b[38;5;241m=\u001b[39m val\n\u001b[0;32m   3931\u001b[0m \u001b[38;5;28;01melif\u001b[39;00m \u001b[38;5;28misinstance\u001b[39m(plotly_obj, \u001b[38;5;28mtuple\u001b[39m):\n\u001b[0;32m   3933\u001b[0m     \u001b[38;5;28;01mif\u001b[39;00m \u001b[38;5;28mlen\u001b[39m(update_obj) \u001b[38;5;241m==\u001b[39m \u001b[38;5;241m0\u001b[39m:\n\u001b[0;32m   3934\u001b[0m         \u001b[38;5;66;03m# Nothing to do\u001b[39;00m\n",
      "File \u001b[1;32m~\\anaconda3\\Lib\\site-packages\\plotly\\basedatatypes.py:4859\u001b[0m, in \u001b[0;36mBasePlotlyType.__setitem__\u001b[1;34m(self, prop, value)\u001b[0m\n\u001b[0;32m   4855\u001b[0m         \u001b[38;5;28mself\u001b[39m\u001b[38;5;241m.\u001b[39m_set_array_prop(prop, value)\n\u001b[0;32m   4857\u001b[0m     \u001b[38;5;66;03m# ### Handle simple property ###\u001b[39;00m\n\u001b[0;32m   4858\u001b[0m     \u001b[38;5;28;01melse\u001b[39;00m:\n\u001b[1;32m-> 4859\u001b[0m         \u001b[38;5;28mself\u001b[39m\u001b[38;5;241m.\u001b[39m_set_prop(prop, value)\n\u001b[0;32m   4860\u001b[0m \u001b[38;5;28;01melse\u001b[39;00m:\n\u001b[0;32m   4861\u001b[0m     \u001b[38;5;66;03m# Make sure properties dict is initialized\u001b[39;00m\n\u001b[0;32m   4862\u001b[0m     \u001b[38;5;28mself\u001b[39m\u001b[38;5;241m.\u001b[39m_init_props()\n",
      "File \u001b[1;32m~\\anaconda3\\Lib\\site-packages\\plotly\\basedatatypes.py:5203\u001b[0m, in \u001b[0;36mBasePlotlyType._set_prop\u001b[1;34m(self, prop, val)\u001b[0m\n\u001b[0;32m   5201\u001b[0m         \u001b[38;5;28;01mreturn\u001b[39;00m\n\u001b[0;32m   5202\u001b[0m     \u001b[38;5;28;01melse\u001b[39;00m:\n\u001b[1;32m-> 5203\u001b[0m         \u001b[38;5;28;01mraise\u001b[39;00m err\n\u001b[0;32m   5205\u001b[0m \u001b[38;5;66;03m# val is None\u001b[39;00m\n\u001b[0;32m   5206\u001b[0m \u001b[38;5;66;03m# -----------\u001b[39;00m\n\u001b[0;32m   5207\u001b[0m \u001b[38;5;28;01mif\u001b[39;00m val \u001b[38;5;129;01mis\u001b[39;00m \u001b[38;5;28;01mNone\u001b[39;00m:\n\u001b[0;32m   5208\u001b[0m     \u001b[38;5;66;03m# Check if we should send null update\u001b[39;00m\n",
      "File \u001b[1;32m~\\anaconda3\\Lib\\site-packages\\plotly\\basedatatypes.py:5198\u001b[0m, in \u001b[0;36mBasePlotlyType._set_prop\u001b[1;34m(self, prop, val)\u001b[0m\n\u001b[0;32m   5195\u001b[0m validator \u001b[38;5;241m=\u001b[39m \u001b[38;5;28mself\u001b[39m\u001b[38;5;241m.\u001b[39m_get_validator(prop)\n\u001b[0;32m   5197\u001b[0m \u001b[38;5;28;01mtry\u001b[39;00m:\n\u001b[1;32m-> 5198\u001b[0m     val \u001b[38;5;241m=\u001b[39m validator\u001b[38;5;241m.\u001b[39mvalidate_coerce(val)\n\u001b[0;32m   5199\u001b[0m \u001b[38;5;28;01mexcept\u001b[39;00m \u001b[38;5;167;01mValueError\u001b[39;00m \u001b[38;5;28;01mas\u001b[39;00m err:\n\u001b[0;32m   5200\u001b[0m     \u001b[38;5;28;01mif\u001b[39;00m \u001b[38;5;28mself\u001b[39m\u001b[38;5;241m.\u001b[39m_skip_invalid:\n",
      "File \u001b[1;32m~\\anaconda3\\Lib\\site-packages\\_plotly_utils\\basevalidators.py:778\u001b[0m, in \u001b[0;36mNumberValidator.validate_coerce\u001b[1;34m(self, v)\u001b[0m\n\u001b[0;32m    773\u001b[0m             v_invalid \u001b[38;5;241m=\u001b[39m np\u001b[38;5;241m.\u001b[39mlogical_not(v_valid)\n\u001b[0;32m    774\u001b[0m             some_invalid_els \u001b[38;5;241m=\u001b[39m np\u001b[38;5;241m.\u001b[39marray(v, dtype\u001b[38;5;241m=\u001b[39m\u001b[38;5;124m\"\u001b[39m\u001b[38;5;124mobject\u001b[39m\u001b[38;5;124m\"\u001b[39m)[v_invalid][\n\u001b[0;32m    775\u001b[0m                 :\u001b[38;5;241m10\u001b[39m\n\u001b[0;32m    776\u001b[0m             ]\u001b[38;5;241m.\u001b[39mtolist()\n\u001b[1;32m--> 778\u001b[0m             \u001b[38;5;28mself\u001b[39m\u001b[38;5;241m.\u001b[39mraise_invalid_elements(some_invalid_els)\n\u001b[0;32m    780\u001b[0m     v \u001b[38;5;241m=\u001b[39m v_array  \u001b[38;5;66;03m# Always numeric numpy array\u001b[39;00m\n\u001b[0;32m    781\u001b[0m \u001b[38;5;28;01melif\u001b[39;00m \u001b[38;5;28mself\u001b[39m\u001b[38;5;241m.\u001b[39marray_ok \u001b[38;5;129;01mand\u001b[39;00m is_simple_array(v):\n\u001b[0;32m    782\u001b[0m     \u001b[38;5;66;03m# Check numeric\u001b[39;00m\n",
      "File \u001b[1;32m~\\anaconda3\\Lib\\site-packages\\_plotly_utils\\basevalidators.py:304\u001b[0m, in \u001b[0;36mBaseValidator.raise_invalid_elements\u001b[1;34m(self, invalid_els)\u001b[0m\n\u001b[0;32m    302\u001b[0m     \u001b[38;5;28;01mdef\u001b[39;00m \u001b[38;5;21mraise_invalid_elements\u001b[39m(\u001b[38;5;28mself\u001b[39m, invalid_els):\n\u001b[0;32m    303\u001b[0m         \u001b[38;5;28;01mif\u001b[39;00m invalid_els:\n\u001b[1;32m--> 304\u001b[0m             \u001b[38;5;28;01mraise\u001b[39;00m \u001b[38;5;167;01mValueError\u001b[39;00m(\n\u001b[0;32m    305\u001b[0m \u001b[38;5;250m                \u001b[39m\u001b[38;5;124;03m\"\"\"\u001b[39;00m\n\u001b[0;32m    306\u001b[0m \u001b[38;5;124;03m    Invalid element(s) received for the '{name}' property of {pname}\u001b[39;00m\n\u001b[0;32m    307\u001b[0m \u001b[38;5;124;03m        Invalid elements include: {invalid}\u001b[39;00m\n\u001b[0;32m    308\u001b[0m \n\u001b[0;32m    309\u001b[0m \u001b[38;5;124;03m{valid_clr_desc}\"\"\"\u001b[39;00m\u001b[38;5;241m.\u001b[39mformat(\n\u001b[0;32m    310\u001b[0m                     name\u001b[38;5;241m=\u001b[39m\u001b[38;5;28mself\u001b[39m\u001b[38;5;241m.\u001b[39mplotly_name,\n\u001b[0;32m    311\u001b[0m                     pname\u001b[38;5;241m=\u001b[39m\u001b[38;5;28mself\u001b[39m\u001b[38;5;241m.\u001b[39mparent_name,\n\u001b[0;32m    312\u001b[0m                     invalid\u001b[38;5;241m=\u001b[39minvalid_els[:\u001b[38;5;241m10\u001b[39m],\n\u001b[0;32m    313\u001b[0m                     valid_clr_desc\u001b[38;5;241m=\u001b[39m\u001b[38;5;28mself\u001b[39m\u001b[38;5;241m.\u001b[39mdescription(),\n\u001b[0;32m    314\u001b[0m                 )\n\u001b[0;32m    315\u001b[0m             )\n",
      "\u001b[1;31mValueError\u001b[0m: \n    Invalid element(s) received for the 'size' property of scattergl.marker\n        Invalid elements include: [-0.125, -5.398, -5.507, -1.0389999999999997, -3.9350000000000005, -6.842000000000002, -1.2189999999999994, -5.663, -7.596, -3.555999999999999]\n\n    The 'size' property is a number and may be specified as:\n      - An int or float in the interval [0, inf]\n      - A tuple, list, or one-dimensional numpy array of the above"
     ]
    }
   ],
   "source": [
    "import pandas as pd\n",
    "import plotly.express as px\n",
    "\n",
    "# تبدیل مقادیر Latitude و Longitude به عددی\n",
    "def convert_latitude(lat):\n",
    "    if isinstance(lat, str):\n",
    "        value = float(lat[:-1])\n",
    "        if lat[-1] == 'S':\n",
    "            value = -value\n",
    "        return value\n",
    "    return lat\n",
    "\n",
    "def convert_longitude(lon):\n",
    "    if isinstance(lon, str):\n",
    "        value = float(lon[:-1])\n",
    "        if lon[-1] == 'W':\n",
    "            value = -value\n",
    "        return value\n",
    "    return lon\n",
    "\n",
    "# لود دیتاست\n",
    "df = pd.read_csv('GlobalLandTemperaturesByMajorCity.csv')\n",
    "\n",
    "# اطمینان از تبدیل مقادیر Latitude و Longitude به رشته\n",
    "df['Latitude'] = df['Latitude'].astype(str)\n",
    "df['Longitude'] = df['Longitude'].astype(str)\n",
    "\n",
    "# اعمال تبدیل به ستون‌های Latitude و Longitude\n",
    "df['Latitude'] = df['Latitude'].apply(convert_latitude)\n",
    "df['Longitude'] = df['Longitude'].apply(convert_longitude)\n",
    "\n",
    "# حذف ردیف‌هایی که دمای آنها NaN است\n",
    "df_clean = df.dropna(subset=['AverageTemperature'])\n",
    "\n",
    "# تعریف دسته بندی آب و هوایی بر اساس عرض جغرافیایی\n",
    "def categorize_by_latitude(lat):\n",
    "    if -23.5 <= lat <= 23.5:\n",
    "        return 'Tropical'\n",
    "    elif lat > 23.5 and lat <= 66.5:\n",
    "        return 'Northern Temperate'\n",
    "    elif lat > 66.5:\n",
    "        return 'Northern Polar'\n",
    "    elif lat < -23.5 and lat >= -66.5:\n",
    "        return 'Southern Temperate'\n",
    "    elif lat < -66.5:\n",
    "        return 'Southern Polar'\n",
    "\n",
    "# اضافه کردن ستون دسته‌بندی جغرافیایی\n",
    "df_clean['GeographicalCategory'] = df_clean['Latitude'].apply(categorize_by_latitude)\n",
    "\n",
    "# مقیاس‌دهی اندازه دماها\n",
    "# 1. استفاده از مقادیر مطلق\n",
    "# df_clean['Size'] = df_clean['AverageTemperature'].abs()\n",
    "\n",
    "# 2. یا اضافه کردن یک مقدار ثابت (مثلاً 10) به اندازه دماها\n",
    "df_clean['Size'] = df_clean['AverageTemperature'] + 10  # اطمینان از مثبت بودن\n",
    "\n",
    "# ویژوالیزیشن با استفاده از نمودار پراکندگی\n",
    "fig = px.scatter(df_clean, x='Longitude', y='Latitude', color='GeographicalCategory',\n",
    "                 size='Size', hover_name='City',\n",
    "                 title=\"Climate Zones Categorization\",\n",
    "                 labels={'Longitude': 'Longitude', 'Latitude': 'Latitude'})\n",
    "\n",
    "# نمایش نمودار\n",
    "fig.show()\n"
   ]
  },
  {
   "cell_type": "code",
   "execution_count": null,
   "id": "0769bc54-602f-40c3-9062-b717471c6a2b",
   "metadata": {},
   "outputs": [],
   "source": []
  }
 ],
 "metadata": {
  "kernelspec": {
   "display_name": "Python 3 (ipykernel)",
   "language": "python",
   "name": "python3"
  },
  "language_info": {
   "codemirror_mode": {
    "name": "ipython",
    "version": 3
   },
   "file_extension": ".py",
   "mimetype": "text/x-python",
   "name": "python",
   "nbconvert_exporter": "python",
   "pygments_lexer": "ipython3",
   "version": "3.11.7"
  }
 },
 "nbformat": 4,
 "nbformat_minor": 5
}
